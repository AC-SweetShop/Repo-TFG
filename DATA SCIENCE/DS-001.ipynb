{
 "cells": [
  {
   "cell_type": "code",
   "execution_count": 1,
   "metadata": {},
   "outputs": [
    {
     "name": "stdout",
     "output_type": "stream",
     "text": [
      "2019-05-03T15:59:26+02:00\n",
      "\n",
      "CPython 3.6.5\n",
      "IPython 6.4.0\n",
      "\n",
      "compiler   : GCC 7.2.0\n",
      "system     : Linux\n",
      "release    : 5.0.10-arch1-1-ARCH\n",
      "machine    : x86_64\n",
      "processor  : \n",
      "CPU cores  : 4\n",
      "interpreter: 64bit\n"
     ]
    }
   ],
   "source": [
    "%load_ext watermark\n",
    "%watermark"
   ]
  },
  {
   "cell_type": "markdown",
   "metadata": {},
   "source": [
    "# INTRODUCCIÓN A DATA SCIENCE\n",
    "En este apartado expondremos que es el Data Science (ciencia de datos), que tipos de variables utiliza, estructuras y herramientas principales (Numpy y Pandas).\n"
   ]
  },
  {
   "cell_type": "markdown",
   "metadata": {},
   "source": [
    "## Teoria y Definicion\n",
    "La ciencia de datos es un campo interdisciplinario que involucra varios métodos cientificos para el análisis de datos.\n",
    "Según la [wikipedia](https://es.wikipedia.org/wiki/Ciencia_de_datos) Data Science se define como:\n",
    "\n",
    "\"Un concepto para unificar estadísticas, análisis de datos, aprendizaje automático y sus métodos relacionados para comprender y analizar los fenómenos reales, empleando técnicas y teorías extraídas de muchos campos dentro del contexto de las matemáticas, la estadística, la ciencia de la información y la informática.\"\n",
    "\n",
    "Para ver la actual demanda de los diez puestos mejor pagados que requieran un conocimiento de análisis de datos, visitar el siguiene enlace:  \n",
    "[10 High-Paying Jobs That Require a Knowledge of Data Analytics](https://www.dataquest.io/blog/10-data-analytics-jobs/)\n",
    "\n",
    "### El Cientifico de Datos y su futuro laboral.\n",
    "Un científico de datos debe seguir una serie de pasos en cualquiera de sus proyectos:\n",
    "- Extraer datos, independientemente de la fuente y de su volumen.\n",
    "- Limpiar los datos, para eliminar lo que pueda sesgar los resultados.\n",
    "- Procesar los datos usando métodos estadísticos como inferencia estadística, modelos de regresión, pruebas de hipótesis, etc.\n",
    "- Diseñar experimentos adicionales en caso de ser necesario.\n",
    "- Crear visualizaciones graficas de los datos relevantes de la investigación.23\n",
    "\n",
    "Por norma general las fases distinguidas son:  \n",
    "***1. Definición de objetivos:***\n",
    "Define los problemas a solucionar, se soluciona normalmente con el cliente y los técnicos, estudiando el objetivo a alcanzar.\n",
    "Para los data scientist, un buen objetivo tiene que seguir la regla S.M.A.R.T(specific, measurable, achievable, relevant, time-bound)\n",
    "\n",
    "***2. Obtención de datos:***\n",
    "Los datos se obtienen de cualquier forma que podamos imaginar como desarrolladores, desde bases de datos, hasta archivos csv, excel etc...\n",
    "La obtención de datos es una de las fases más importantes en el desarrollo del proyecto, ya que cuantas mas completos y extensos sean los registros, más preciso será el analisis\n"
   ]
  },
  {
   "cell_type": "markdown",
   "metadata": {},
   "source": [
    "## Tipos de datos. Variables y Estructuras\n",
    "\n",
    "Los datos puden dividirse en los siguientes tipos de variabes:\n",
    "- *continuas:* edad,altura,colores RGB etc.\n",
    "- *ordinales:* rating, niveles educativos etc.\n",
    "- *categóricas:* valores booleanos, días de la semana etc.\n",
    "\n",
    "A su vez, pueden categorizarse según su estructura:\n",
    "-  *Estructurados <10%:*Son datos que se relacionan entre sí y comparten informacón como el catalogo de biblioteca, bases de datos sql.\n",
    "- *Semiestructurados <10%: no tienen estructura, pero es facil asignarle una estructura mediante la lógica.* xml, json, csv.\n",
    "- *No estructurados:* emails, fotos, pdf.\n",
    "Hoy en día más del 80% de los datos son no estructurados, por lo que perdemos mucha información al dificultarnos a nosotros mismos el análisis."
   ]
  },
  {
   "cell_type": "markdown",
   "metadata": {},
   "source": [
    "## Numpy\n",
    "Numpy es la piedra angular de la computación científica en Python. Nos permite trabajar con array 'n' dimensionales, los cuales nos proporcionan ventajas frente a las listas de Python.\n",
    "\n",
    "Numpy a bajo nivel esta compilado en C, y al trabajar con arrays (la disposición en las celdas de memoria frente a las listas) es una herramienta muy potente para trabajar en Data Science con Python.\n",
    "\n",
    "Enlace a la pagina oficial: [https://www.numpy.org/](https://www.numpy.org/)\n",
    "\n",
    "### Preparacion  del  Entorno.\n",
    "Para poder trabajar con Numpy (y más librerías detalladas en los siguietes documentos) necesitamos activar un entorno desde la terminal.\n",
    "\n",
    "En Linux:\n",
    "```bash\n",
    "source activate data\n",
    "```\n",
    "En Windows:\n",
    "```\n",
    "activate data\n",
    "```\n",
    "\n",
    "En ambos casos 'data' sera el nombre del entorno. Ahora procederemos a instalar en el entorno **Numpy** mediante **conda**\n",
    "\n",
    "```bash\n",
    "conda install numpy\n",
    "```\n",
    "Nos preguntará si queremos instalarlo, marcamos 'y' y pulsamos 'enter'.\n",
    "\n",
    "\n",
    "### Creacion de numpy arrays"
   ]
  },
  {
   "cell_type": "code",
   "execution_count": 3,
   "metadata": {},
   "outputs": [],
   "source": [
    "import sys\n",
    "import numpy as np"
   ]
  },
  {
   "cell_type": "markdown",
   "metadata": {},
   "source": [
    "Aqui explicaremos mediante markdown el significado de las variables y para que utilizamos la herramientas."
   ]
  },
  {
   "cell_type": "code",
   "execution_count": 5,
   "metadata": {},
   "outputs": [
    {
     "data": {
      "text/plain": [
       "numpy.ndarray"
      ]
     },
     "execution_count": 5,
     "metadata": {},
     "output_type": "execute_result"
    }
   ],
   "source": [
    "#Instanciacion de un array\n",
    "array_1d = np.array([4,5, 3])\n",
    "type(array_1d)"
   ]
  },
  {
   "cell_type": "code",
   "execution_count": null,
   "metadata": {},
   "outputs": [],
   "source": [
    "#Instanciacion de una matriz\n",
    "matriz = np.array([\n",
    "    [ 1,2, 1 ],\n",
    "    [5, 43, 5]\n",
    "])\n",
    "\n",
    "matriz"
   ]
  },
  {
   "cell_type": "code",
   "execution_count": null,
   "metadata": {},
   "outputs": [],
   "source": []
  },
  {
   "cell_type": "markdown",
   "metadata": {},
   "source": [
    "#### Titulo Herramienta o de Aplicacion y documentacion\n",
    "En este apartado pondremos el título que pondremos a la implementación o ejemplo de cualquiera de las librerías o calculos que haya que realizar"
   ]
  },
  {
   "cell_type": "code",
   "execution_count": null,
   "metadata": {},
   "outputs": [],
   "source": [
    "#Acceso a la documentación si existiese:\n",
    "?LinearRegression"
   ]
  },
  {
   "cell_type": "code",
   "execution_count": 2,
   "metadata": {},
   "outputs": [],
   "source": [
    "#(Aqui la implementación de funciones o lógica)"
   ]
  },
  {
   "cell_type": "markdown",
   "metadata": {},
   "source": [
    "Aqui también podremos desarrollar documentación entre código para sacar conclusiones o realizar análisis en profundidad.\n",
    "Recordamos siempre que a las herramientas de **Python** las marcaremos en negrita, y  pondremos siempre enlace a documentación de la misma [Python](www.google.es)"
   ]
  },
  {
   "cell_type": "code",
   "execution_count": 5,
   "metadata": {},
   "outputs": [],
   "source": [
    "#(Aqui continua la implementación de funciones o lógica)"
   ]
  },
  {
   "cell_type": "code",
   "execution_count": null,
   "metadata": {},
   "outputs": [],
   "source": []
  }
 ],
 "metadata": {
  "kernelspec": {
   "display_name": "Python 3",
   "language": "python",
   "name": "python3"
  },
  "language_info": {
   "codemirror_mode": {
    "name": "ipython",
    "version": 3
   },
   "file_extension": ".py",
   "mimetype": "text/x-python",
   "name": "python",
   "nbconvert_exporter": "python",
   "pygments_lexer": "ipython3",
   "version": "3.6.5"
  }
 },
 "nbformat": 4,
 "nbformat_minor": 2
}
