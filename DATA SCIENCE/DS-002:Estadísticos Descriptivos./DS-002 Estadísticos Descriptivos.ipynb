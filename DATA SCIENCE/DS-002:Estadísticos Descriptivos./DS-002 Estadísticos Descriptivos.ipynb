{
 "cells": [
  {
   "cell_type": "code",
   "execution_count": 1,
   "metadata": {},
   "outputs": [
    {
     "name": "stdout",
     "output_type": "stream",
     "text": [
      "2019-05-17T17:13:16+02:00\n",
      "\n",
      "CPython 3.6.5\n",
      "IPython 6.4.0\n",
      "\n",
      "compiler   : GCC 7.2.0\n",
      "system     : Linux\n",
      "release    : 5.0.13-arch1-1-ARCH\n",
      "machine    : x86_64\n",
      "processor  : \n",
      "CPU cores  : 4\n",
      "interpreter: 64bit\n"
     ]
    }
   ],
   "source": [
    "%load_ext watermark\n",
    "%watermark"
   ]
  },
  {
   "cell_type": "markdown",
   "metadata": {},
   "source": [
    "# ESTADÍSTICOS DESCRIPTIVOS"
   ]
  },
  {
   "cell_type": "code",
   "execution_count": 2,
   "metadata": {},
   "outputs": [],
   "source": [
    "import numpy as np\n",
    "import pandas as pd\n",
    "import scipy.stats as stats"
   ]
  },
  {
   "cell_type": "markdown",
   "metadata": {},
   "source": [
    "## Aplicacion de la teoría"
   ]
  },
  {
   "cell_type": "markdown",
   "metadata": {},
   "source": [
    "Para comprobar la teoría y aplicar los distintos estadísticos descriptivos se utilizará una lista con distintos valores numéricos. En el ejemplo se tratarán como una lista de pesos de productos."
   ]
  },
  {
   "cell_type": "code",
   "execution_count": 3,
   "metadata": {},
   "outputs": [],
   "source": [
    "pesos = [100,150,150,200,250,300,325,400,415,500,600,1000]"
   ]
  },
  {
   "cell_type": "markdown",
   "metadata": {},
   "source": [
    "### Estadísticos de tendencia Central\n",
    "Las medidas de tendencia central, son medidas estadísticas que pretenden resumir en un solo valor a un conjunto de valores. Representan un centro en torno al cual se encuentra ubicado el conjunto de los datos. Las medidas de tendencia central más utilizadas son la media, la mediana y la moda."
   ]
  },
  {
   "cell_type": "markdown",
   "metadata": {},
   "source": [
    "__Media__: para calcular la media del peso, utilizamos la librería numpy y su método mean pasandole como parametro la lista de pesos"
   ]
  },
  {
   "cell_type": "code",
   "execution_count": 4,
   "metadata": {},
   "outputs": [
    {
     "name": "stdout",
     "output_type": "stream",
     "text": [
      "365.8333333333333\n"
     ]
    }
   ],
   "source": [
    "#Obtenemos la media de los \n",
    "peso_media = np.mean(pesos)\n",
    "print(peso_media)"
   ]
  },
  {
   "cell_type": "markdown",
   "metadata": {},
   "source": [
    "__Mediana__: para calcular la mediana del peso, utilizamos la librería numpy y su método median pasandole como parametro la lista de pesos"
   ]
  },
  {
   "cell_type": "code",
   "execution_count": 5,
   "metadata": {},
   "outputs": [
    {
     "name": "stdout",
     "output_type": "stream",
     "text": [
      "312.5\n"
     ]
    }
   ],
   "source": [
    "peso_mediana = np.median(pesos)\n",
    "print(peso_mediana)"
   ]
  },
  {
   "cell_type": "markdown",
   "metadata": {},
   "source": [
    "__Moda__: para calcular la moda del peso, utilizamos la librería scipy (clase stats) y su método mode pasandole como parametro la lista de pesos"
   ]
  },
  {
   "cell_type": "code",
   "execution_count": 6,
   "metadata": {},
   "outputs": [
    {
     "name": "stdout",
     "output_type": "stream",
     "text": [
      "ModeResult(mode=array([150]), count=array([2]))\n"
     ]
    }
   ],
   "source": [
    "peso_moda = stats.mode(pesos)\n",
    "print(peso_moda)"
   ]
  },
  {
   "cell_type": "markdown",
   "metadata": {},
   "source": [
    "### Estadísticos de dispersión\n",
    "Las medidas de dispersión miden el grado de dispersión de los valores de una variable. Pretenden evaluar en qué medida los datos difieren entre sí, es decir, si las diferentes puntuaciones de una variable están muy alejadas de la media, por lo que cuanto mayor sea ese valor mayor será la variabilidad y cuanto menor sea, más homogénea será a la media."
   ]
  },
  {
   "cell_type": "markdown",
   "metadata": {},
   "source": [
    "__Rango__: para calcular el rango del peso, utilizamos la librería numpy, utilizamos los metodos maximo y minimo y los restamos"
   ]
  },
  {
   "cell_type": "code",
   "execution_count": 7,
   "metadata": {},
   "outputs": [
    {
     "name": "stdout",
     "output_type": "stream",
     "text": [
      "900\n"
     ]
    }
   ],
   "source": [
    "peso_rango = np.max(pesos) - np.min(pesos)\n",
    "print(peso_rango)"
   ]
  },
  {
   "cell_type": "markdown",
   "metadata": {},
   "source": [
    "__Cuartiles y IQR__: Dentro de la librería stats disponemos de una clase mstats y un método mquantiles"
   ]
  },
  {
   "cell_type": "code",
   "execution_count": 8,
   "metadata": {},
   "outputs": [
    {
     "name": "stdout",
     "output_type": "stream",
     "text": [
      "[172.5  312.5  461.75]\n"
     ]
    }
   ],
   "source": [
    "peso_cuantiles = stats.mstats.mquantiles(pesos)\n",
    "print(peso_cuantiles)"
   ]
  },
  {
   "cell_type": "markdown",
   "metadata": {},
   "source": [
    "La función pandas.qcut convierte una serie en una lista de N cuantiles. Si le pasasemos 4, tenemos los cuartiles. qcut devuelve una serie categórica nueva con los cuantiles como categorías"
   ]
  },
  {
   "cell_type": "code",
   "execution_count": 9,
   "metadata": {},
   "outputs": [
    {
     "data": {
      "text/plain": [
       "IntervalIndex([(99.999, 187.5], (187.5, 312.5], (312.5, 436.25], (436.25, 1000.0]],\n",
       "              closed='right',\n",
       "              dtype='interval[float64]')"
      ]
     },
     "execution_count": 9,
     "metadata": {},
     "output_type": "execute_result"
    }
   ],
   "source": [
    "pesos_cuartiles = pd.qcut(pesos,4)\n",
    "pesos_cuartiles.categories"
   ]
  },
  {
   "cell_type": "markdown",
   "metadata": {},
   "source": [
    "__Desviacion Standard__: Con la librería numpy y el método std podemos obtener la desviación standard"
   ]
  },
  {
   "cell_type": "code",
   "execution_count": 10,
   "metadata": {},
   "outputs": [
    {
     "name": "stdout",
     "output_type": "stream",
     "text": [
      "239.6771555423856\n"
     ]
    }
   ],
   "source": [
    "peso_std = np.std(pesos)\n",
    "print(peso_std)"
   ]
  },
  {
   "cell_type": "markdown",
   "metadata": {},
   "source": [
    "### Estadísticos de forma\n",
    "Son aquellos que nos hablan de la forma de la distribución de datos en cuanto a su simetría y su apuntamiento. "
   ]
  },
  {
   "cell_type": "markdown",
   "metadata": {},
   "source": [
    "__Coeficiente de simetria__: El coeficiente de simetría (skewness) se define como el tercer momento dividido por la desviación standard al cubo.\n",
    "\n",
    "$$\\frac{1}{N} * \\frac{\\sum_{n=1}^{n} (Xi-\\bar{X})^{3}}{\\sigma^3}$$ "
   ]
  },
  {
   "cell_type": "code",
   "execution_count": 11,
   "metadata": {},
   "outputs": [
    {
     "name": "stdout",
     "output_type": "stream",
     "text": [
      "1.3623858394083475\n"
     ]
    }
   ],
   "source": [
    "pow3 = lambda x: x*x*x\n",
    "tercer_momento = lambda x: pow3(x-peso_media)\n",
    "simetria_pesos = sum(map(tercer_momento,pesos))/(12*pow3(peso_std))\n",
    "print(simetria_pesos)"
   ]
  },
  {
   "cell_type": "markdown",
   "metadata": {},
   "source": [
    "__Coeficiente de curtosis__: El coeficiente de curtosis se define como el cuarto momento dividido por la desviación estandard a la cuarta, tiene la siguiente formula:\n",
    "\n",
    "$$\\frac{1}{N} * \\frac{\\sum_{n=1}^{n} (Xi-\\bar{X})^{4}}{\\sigma^4}-3$$ \n",
    "\n",
    "Generalmente se le resta 3 al cuarto momento, ya que una distribución normal perfecta tiene un coeficiente de curtosis de 3. \n",
    "En la siguiente ejecución describimos la ecuación a mano"
   ]
  },
  {
   "cell_type": "code",
   "execution_count": 12,
   "metadata": {},
   "outputs": [
    {
     "name": "stdout",
     "output_type": "stream",
     "text": [
      "1.4285722765161841\n"
     ]
    }
   ],
   "source": [
    "pow4 = lambda x: x*x*x*x\n",
    "cuarto_momento = lambda x: pow4(x - peso_media)\n",
    "curtosis_peso = sum(map(cuarto_momento,pesos))/(12*pow4(peso_std))-3\n",
    "print(curtosis_peso)"
   ]
  },
  {
   "cell_type": "markdown",
   "metadata": {},
   "source": [
    "En este caso gracias a la libreria __scipy__ y a su metodo __kurtosis__ podemos obtenerlo directamente sin necesidad de desarrollar nosotros la ecuación"
   ]
  },
  {
   "cell_type": "code",
   "execution_count": 13,
   "metadata": {},
   "outputs": [
    {
     "name": "stdout",
     "output_type": "stream",
     "text": [
      "1.4285722765161841\n"
     ]
    }
   ],
   "source": [
    "curtosis_peso2 = stats.kurtosis(pesos)\n",
    "print(curtosis_peso2)"
   ]
  },
  {
   "cell_type": "code",
   "execution_count": null,
   "metadata": {},
   "outputs": [],
   "source": []
  }
 ],
 "metadata": {
  "kernelspec": {
   "display_name": "Python 3",
   "language": "python",
   "name": "python3"
  },
  "language_info": {
   "codemirror_mode": {
    "name": "ipython",
    "version": 3
   },
   "file_extension": ".py",
   "mimetype": "text/x-python",
   "name": "python",
   "nbconvert_exporter": "python",
   "pygments_lexer": "ipython3",
   "version": "3.6.5"
  }
 },
 "nbformat": 4,
 "nbformat_minor": 2
}
