{
 "cells": [
  {
   "cell_type": "code",
   "execution_count": 1,
   "metadata": {},
   "outputs": [
    {
     "name": "stdout",
     "output_type": "stream",
     "text": [
      "2019-04-17T11:52:25+02:00\n",
      "\n",
      "CPython 3.7.3\n",
      "IPython 7.4.0\n",
      "\n",
      "compiler   : Clang 4.0.1 (tags/RELEASE_401/final)\n",
      "system     : Darwin\n",
      "release    : 18.5.0\n",
      "machine    : x86_64\n",
      "processor  : i386\n",
      "CPU cores  : 4\n",
      "interpreter: 64bit\n"
     ]
    }
   ],
   "source": [
    "%load_ext watermark\n",
    "%watermark"
   ]
  },
  {
   "cell_type": "code",
   "execution_count": 2,
   "metadata": {},
   "outputs": [],
   "source": [
    "import pandas as pd\n",
    "import numpy as np"
   ]
  },
  {
   "cell_type": "code",
   "execution_count": 3,
   "metadata": {},
   "outputs": [],
   "source": [
    "%matplotlib inline\n",
    "import matplotlib.pyplot as plt\n",
    "plt.rcParams['figure.figsize'] = (12,12)\n",
    "plt.rcParams['font.size'] = 16"
   ]
  },
  {
   "cell_type": "code",
   "execution_count": 4,
   "metadata": {},
   "outputs": [],
   "source": [
    "vehiculos = pd.read_csv(\"data/vehiculos_procesado.csv\", \n",
    "                 usecols=[\"consumo\", \"co2\", \"cilindros\",\"desplazamiento\"])\n",
    "\n",
    "\n",
    "litros_por_galon =  3.78541\n",
    "vehiculos[\"consumo_litros_milla\"] = litros_por_galon/ vehiculos.consumo\n",
    "\n"
   ]
  },
  {
   "cell_type": "code",
   "execution_count": 5,
   "metadata": {},
   "outputs": [
    {
     "data": {
      "text/plain": [
       "(35539, 5)"
      ]
     },
     "execution_count": 5,
     "metadata": {},
     "output_type": "execute_result"
    }
   ],
   "source": [
    "vehiculos.shape"
   ]
  },
  {
   "cell_type": "code",
   "execution_count": 6,
   "metadata": {},
   "outputs": [
    {
     "data": {
      "text/html": [
       "<div>\n",
       "<style scoped>\n",
       "    .dataframe tbody tr th:only-of-type {\n",
       "        vertical-align: middle;\n",
       "    }\n",
       "\n",
       "    .dataframe tbody tr th {\n",
       "        vertical-align: top;\n",
       "    }\n",
       "\n",
       "    .dataframe thead th {\n",
       "        text-align: right;\n",
       "    }\n",
       "</style>\n",
       "<table border=\"1\" class=\"dataframe\">\n",
       "  <thead>\n",
       "    <tr style=\"text-align: right;\">\n",
       "      <th></th>\n",
       "      <th>desplazamiento</th>\n",
       "      <th>cilindros</th>\n",
       "      <th>consumo</th>\n",
       "      <th>co2</th>\n",
       "      <th>consumo_litros_milla</th>\n",
       "    </tr>\n",
       "  </thead>\n",
       "  <tbody>\n",
       "    <tr>\n",
       "      <th>0</th>\n",
       "      <td>2.5</td>\n",
       "      <td>4.0</td>\n",
       "      <td>17</td>\n",
       "      <td>522.764706</td>\n",
       "      <td>0.222671</td>\n",
       "    </tr>\n",
       "    <tr>\n",
       "      <th>1</th>\n",
       "      <td>4.2</td>\n",
       "      <td>6.0</td>\n",
       "      <td>13</td>\n",
       "      <td>683.615385</td>\n",
       "      <td>0.291185</td>\n",
       "    </tr>\n",
       "    <tr>\n",
       "      <th>2</th>\n",
       "      <td>2.5</td>\n",
       "      <td>4.0</td>\n",
       "      <td>16</td>\n",
       "      <td>555.437500</td>\n",
       "      <td>0.236588</td>\n",
       "    </tr>\n",
       "    <tr>\n",
       "      <th>3</th>\n",
       "      <td>4.2</td>\n",
       "      <td>6.0</td>\n",
       "      <td>13</td>\n",
       "      <td>683.615385</td>\n",
       "      <td>0.291185</td>\n",
       "    </tr>\n",
       "    <tr>\n",
       "      <th>4</th>\n",
       "      <td>3.8</td>\n",
       "      <td>6.0</td>\n",
       "      <td>16</td>\n",
       "      <td>555.437500</td>\n",
       "      <td>0.236588</td>\n",
       "    </tr>\n",
       "  </tbody>\n",
       "</table>\n",
       "</div>"
      ],
      "text/plain": [
       "   desplazamiento  cilindros  consumo         co2  consumo_litros_milla\n",
       "0             2.5        4.0       17  522.764706              0.222671\n",
       "1             4.2        6.0       13  683.615385              0.291185\n",
       "2             2.5        4.0       16  555.437500              0.236588\n",
       "3             4.2        6.0       13  683.615385              0.291185\n",
       "4             3.8        6.0       16  555.437500              0.236588"
      ]
     },
     "execution_count": 6,
     "metadata": {},
     "output_type": "execute_result"
    }
   ],
   "source": [
    "vehiculos.head()"
   ]
  },
  {
   "cell_type": "markdown",
   "metadata": {},
   "source": [
    "El modelo de regresión lineal mediante OLS (ordinary least squares) tiene la forma:\n",
    "\n",
    "$$ \\hat{y} = \\alpha + \\beta_{1}*x_{1} + \\beta_{2}*x_{2} + ... + \\beta_{n}*x_{n} + \\varepsilon$$\n",
    "\n",
    "Donde $\\hat{y}$ es la predicción que queremos hacer,\n",
    "\n",
    "$\\alpha$ es el término independiente,\n",
    "\n",
    "$\\beta_{n}$ es un vector de coeficientes\n",
    "y $x_{n}$ son los valores de las variables del dataset.\n",
    "\n",
    "El objetivo es obtener $\\alpha$ y $\\beta_{n}$  tales que error cuadrático (residuo) , definido como:\n",
    "\n",
    "$$RSS = \\varepsilon² = \\sum\\limits_{i=1}^n(y_{i} - (\\alpha - \\beta_{i}x_{i}))^2$$\n",
    "\n",
    "sea el mínimo.\n",
    "\n",
    "Para ello tenemos que resolver las siguientes equaciones\n",
    "\n",
    "$$\\hat{\\alpha} = \\bar{y} - \\hat{\\beta}*\\bar{x}$$\n",
    "$$\\hat{\\beta} = (X^TX)^{-1}X^Ty$$"
   ]
  },
  {
   "cell_type": "markdown",
   "metadata": {},
   "source": [
    "Para obtener los coeficientes del modelo dedicamos una fracción del dataset a entrenar y otra a evaluar los resultados (para evitar sobreajuste o sobregeneralización)"
   ]
  },
  {
   "cell_type": "code",
   "execution_count": 7,
   "metadata": {},
   "outputs": [],
   "source": [
    "pct_entrenamiento = 0.8"
   ]
  },
  {
   "cell_type": "code",
   "execution_count": 8,
   "metadata": {},
   "outputs": [
    {
     "name": "stdout",
     "output_type": "stream",
     "text": [
      "(28431, 5)\n",
      "(7108, 5)\n"
     ]
    }
   ],
   "source": [
    "vehiculos_training = vehiculos.sample(frac=pct_entrenamiento)\n",
    "\n",
    "\n",
    "vehiculos_test = vehiculos[~vehiculos.index.isin(vehiculos_training.index)]\n",
    "\n",
    "print(vehiculos_training.shape)\n",
    "print(vehiculos_test.shape)"
   ]
  },
  {
   "cell_type": "code",
   "execution_count": 9,
   "metadata": {},
   "outputs": [
    {
     "name": "stderr",
     "output_type": "stream",
     "text": [
      "/anaconda3/lib/python3.7/site-packages/ipykernel_launcher.py:3: FutureWarning: Method .as_matrix will be removed in a future version. Use .values instead.\n",
      "  This is separate from the ipykernel package so we can avoid doing imports until\n",
      "/anaconda3/lib/python3.7/site-packages/ipykernel_launcher.py:4: FutureWarning: Method .as_matrix will be removed in a future version. Use .values instead.\n",
      "  after removing the cwd from sys.path.\n"
     ]
    }
   ],
   "source": [
    "variables_independientes = ['desplazamiento', 'cilindros','consumo_litros_milla']\n",
    "variable_dependiente = 'co2'\n",
    "X = vehiculos_training[variables_independientes].as_matrix()\n",
    "y = vehiculos_training[variable_dependiente].as_matrix()\n",
    "X_T = X.T"
   ]
  },
  {
   "cell_type": "code",
   "execution_count": 10,
   "metadata": {},
   "outputs": [
    {
     "data": {
      "text/plain": [
       "array([[ 1.6       ,  4.        ,  0.1514164 ],\n",
       "       [ 3.7       ,  6.        ,  0.18025762],\n",
       "       [ 3.        ,  6.        ,  0.17206409],\n",
       "       ...,\n",
       "       [ 3.3       ,  6.        ,  0.22267118],\n",
       "       [ 2.5       ,  4.        ,  0.17206409],\n",
       "       [ 6.7       , 12.        ,  0.27038643]])"
      ]
     },
     "execution_count": 10,
     "metadata": {},
     "output_type": "execute_result"
    }
   ],
   "source": [
    "X"
   ]
  },
  {
   "cell_type": "code",
   "execution_count": 11,
   "metadata": {},
   "outputs": [
    {
     "data": {
      "text/plain": [
       "(28431, 3)"
      ]
     },
     "execution_count": 11,
     "metadata": {},
     "output_type": "execute_result"
    }
   ],
   "source": [
    "X.shape"
   ]
  },
  {
   "cell_type": "code",
   "execution_count": 12,
   "metadata": {},
   "outputs": [
    {
     "data": {
      "text/plain": [
       "array([356.        , 423.19047619, 398.        , ..., 522.76470588,\n",
       "       404.        , 638.        ])"
      ]
     },
     "execution_count": 12,
     "metadata": {},
     "output_type": "execute_result"
    }
   ],
   "source": [
    "y"
   ]
  },
  {
   "cell_type": "code",
   "execution_count": 13,
   "metadata": {},
   "outputs": [
    {
     "data": {
      "text/plain": [
       "array([ 3.64984216e+00, -4.69788487e-01,  2.30414371e+03])"
      ]
     },
     "execution_count": 13,
     "metadata": {},
     "output_type": "execute_result"
    }
   ],
   "source": [
    "betas = np.linalg.inv(X_T @ X) @ X_T @ y\n",
    "betas"
   ]
  },
  {
   "cell_type": "code",
   "execution_count": 14,
   "metadata": {},
   "outputs": [
    {
     "data": {
      "text/plain": [
       "470.3109016863682"
      ]
     },
     "execution_count": 14,
     "metadata": {},
     "output_type": "execute_result"
    }
   ],
   "source": [
    "y.mean()"
   ]
  },
  {
   "cell_type": "code",
   "execution_count": 15,
   "metadata": {},
   "outputs": [
    {
     "name": "stderr",
     "output_type": "stream",
     "text": [
      "/anaconda3/lib/python3.7/site-packages/ipykernel_launcher.py:1: FutureWarning: Method .as_matrix will be removed in a future version. Use .values instead.\n",
      "  \"\"\"Entry point for launching an IPython kernel.\n"
     ]
    },
    {
     "data": {
      "text/plain": [
       "0.36721807689264097"
      ]
     },
     "execution_count": 15,
     "metadata": {},
     "output_type": "execute_result"
    }
   ],
   "source": [
    "alfa = y.mean() - np.dot(betas,vehiculos_training[variables_independientes].mean().as_matrix())\n",
    "alfa"
   ]
  },
  {
   "cell_type": "code",
   "execution_count": 16,
   "metadata": {},
   "outputs": [],
   "source": [
    "def predecir(r):\n",
    "    return alfa + np.dot(betas, r.values)"
   ]
  },
  {
   "cell_type": "code",
   "execution_count": 17,
   "metadata": {},
   "outputs": [
    {
     "name": "stderr",
     "output_type": "stream",
     "text": [
      "/anaconda3/lib/python3.7/site-packages/ipykernel_launcher.py:3: SettingWithCopyWarning: \n",
      "A value is trying to be set on a copy of a slice from a DataFrame.\n",
      "Try using .loc[row_indexer,col_indexer] = value instead\n",
      "\n",
      "See the caveats in the documentation: http://pandas.pydata.org/pandas-docs/stable/indexing.html#indexing-view-versus-copy\n",
      "  This is separate from the ipykernel package so we can avoid doing imports until\n"
     ]
    }
   ],
   "source": [
    "vehiculos_training[\"co2_pred\"] = vehiculos_training[variables_independientes].apply(\n",
    "    predecir, axis=1)\n",
    "vehiculos_test[\"co2_pred\"] = vehiculos_test[variables_independientes].apply(predecir, axis=1)"
   ]
  },
  {
   "cell_type": "code",
   "execution_count": 18,
   "metadata": {},
   "outputs": [
    {
     "data": {
      "text/plain": [
       "'y ~ 0.367 + 3.65*desplazamiento + -0.47*cilindros + 2304.144*consumo_litros_milla'"
      ]
     },
     "execution_count": 18,
     "metadata": {},
     "output_type": "execute_result"
    }
   ],
   "source": [
    "model_formula = \"y ~ {alfa:.3f} + {beta_1:.2f}*desplazamiento + {beta_2:.2f}*cilindros + {beta_3:.3f}*consumo_litros_milla\".format(\n",
    "    alfa=alfa, beta_1=betas[0], beta_2=betas[1], beta_3=betas[2])\n",
    "model_formula"
   ]
  },
  {
   "cell_type": "code",
   "execution_count": 19,
   "metadata": {},
   "outputs": [
    {
     "data": {
      "image/png": "[encoded data removed]",
      "text/plain": [
       "<Figure size 432x288 with 1 Axes>"
      ]
     },
     "metadata": {
      "needs_background": "light"
     },
     "output_type": "display_data"
    }
   ],
   "source": [
    "plt.scatter(vehiculos_test.consumo_litros_milla, vehiculos_test.co2, alpha=0.5, label=\"real\")\n",
    "plt.text(0.1, 850, model_formula)\n",
    "plt.plot(vehiculos_test.consumo_litros_milla,vehiculos_test.co2_pred, c=\"black\", label=\"prediccion\")\n",
    "plt.xlabel(\"Consumo combustible (litros/milla)\")\n",
    "plt.ylabel(\"emisión CO2 gramos/milla\")\n",
    "plt.legend();"
   ]
  },
  {
   "cell_type": "code",
   "execution_count": 20,
   "metadata": {},
   "outputs": [],
   "source": [
    "def error_cuadrático_medio(y, y_pred):\n",
    "    return np.sum((y-y_pred)**2)/len(y)"
   ]
  },
  {
   "cell_type": "code",
   "execution_count": 21,
   "metadata": {},
   "outputs": [
    {
     "data": {
      "text/plain": [
       "133.39674732607324"
      ]
     },
     "execution_count": 21,
     "metadata": {},
     "output_type": "execute_result"
    }
   ],
   "source": [
    "error_training = error_cuadrático_medio(vehiculos_training.co2, vehiculos_training.co2_pred)\n",
    "error_training"
   ]
  },
  {
   "cell_type": "code",
   "execution_count": 22,
   "metadata": {},
   "outputs": [
    {
     "data": {
      "text/plain": [
       "123.00281340740162"
      ]
     },
     "execution_count": 22,
     "metadata": {},
     "output_type": "execute_result"
    }
   ],
   "source": [
    "error_test = error_cuadrático_medio(vehiculos_test.co2, vehiculos_test.co2_pred)\n",
    "error_test"
   ]
  },
  {
   "cell_type": "markdown",
   "metadata": {
    "collapsed": true
   },
   "source": [
    "### Links\n",
    "\n",
    "http://people.revoledu.com/kardi/tutorial/Regression/OLS.html\n",
    "\n",
    "http://setosa.io/ev/ordinary-least-squares-regression/"
   ]
  },
  {
   "cell_type": "code",
   "execution_count": null,
   "metadata": {
    "collapsed": true
   },
   "outputs": [],
   "source": []
  }
 ],
 "metadata": {
  "kernelspec": {
   "display_name": "Python 3",
   "language": "python",
   "name": "python3"
  },
  "language_info": {
   "codemirror_mode": {
    "name": "ipython",
    "version": 3
   },
   "file_extension": ".py",
   "mimetype": "text/x-python",
   "name": "python",
   "nbconvert_exporter": "python",
   "pygments_lexer": "ipython3",
   "version": "3.7.3"
  }
 },
 "nbformat": 4,
 "nbformat_minor": 2
}
