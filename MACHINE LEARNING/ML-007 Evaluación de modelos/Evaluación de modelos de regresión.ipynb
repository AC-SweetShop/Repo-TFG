{
 "cells": [
  {
   "cell_type": "code",
   "execution_count": 1,
   "metadata": {},
   "outputs": [
    {
     "name": "stdout",
     "output_type": "stream",
     "text": [
      "2019-05-27T21:18:57+02:00\n",
      "\n",
      "CPython 3.7.3\n",
      "IPython 7.4.0\n",
      "\n",
      "compiler   : Clang 4.0.1 (tags/RELEASE_401/final)\n",
      "system     : Darwin\n",
      "release    : 18.6.0\n",
      "machine    : x86_64\n",
      "processor  : i386\n",
      "CPU cores  : 4\n",
      "interpreter: 64bit\n"
     ]
    }
   ],
   "source": [
    "%load_ext watermark\n",
    "%watermark"
   ]
  },
  {
   "cell_type": "markdown",
   "metadata": {},
   "source": [
    "# Evaluación de modelos de regresión"
   ]
  },
  {
   "cell_type": "markdown",
   "metadata": {},
   "source": [
    "Como en regresión lineal, hay que validar los modelos. La validez es el grado en que las predicciones coinciden con la observaciones."
   ]
  },
  {
   "cell_type": "code",
   "execution_count": 2,
   "metadata": {},
   "outputs": [],
   "source": [
    "from sklearn import datasets"
   ]
  },
  {
   "cell_type": "markdown",
   "metadata": {},
   "source": [
    "Cargamos el dataset"
   ]
  },
  {
   "cell_type": "code",
   "execution_count": 3,
   "metadata": {},
   "outputs": [],
   "source": [
    "boston = datasets.load_boston()"
   ]
  },
  {
   "cell_type": "markdown",
   "metadata": {},
   "source": [
    "Y creamos un modelo de regresión lineal"
   ]
  },
  {
   "cell_type": "code",
   "execution_count": 4,
   "metadata": {},
   "outputs": [],
   "source": [
    "from sklearn.linear_model import LinearRegression"
   ]
  },
  {
   "cell_type": "code",
   "execution_count": 5,
   "metadata": {},
   "outputs": [],
   "source": [
    "model = LinearRegression()"
   ]
  },
  {
   "cell_type": "markdown",
   "metadata": {},
   "source": [
    "Y predecimos"
   ]
  },
  {
   "cell_type": "code",
   "execution_count": 6,
   "metadata": {},
   "outputs": [],
   "source": [
    "model.fit(X=boston[\"data\"], y=boston[\"target\"])\n",
    "y_pred = model.predict(boston[\"data\"])"
   ]
  },
  {
   "cell_type": "code",
   "execution_count": 7,
   "metadata": {},
   "outputs": [],
   "source": [
    "y_objetivo = boston[\"target\"]\n",
    "y_pred = model.predict(boston[\"data\"])"
   ]
  },
  {
   "cell_type": "code",
   "execution_count": 8,
   "metadata": {},
   "outputs": [],
   "source": [
    "from sklearn import metrics"
   ]
  },
  {
   "cell_type": "markdown",
   "metadata": {},
   "source": [
    "## Error Absoluto medio\n",
    "\n",
    "El Error absoluto medio (Mean Absolute Error o MAE) se define como:\n",
    "\n",
    "$$\\frac{1}{n}\\sum_{i=1}^{n}|y_i -\\hat{y}_i|$$\n",
    "\n",
    "Es decir, la media de las diferencias entre la variables objeto y las predicciones sin el signo.\n",
    "MAE es una métrica robusta, en cuanto a que no varia mucho si hay valores extremos en los datos. El error se puede interpretar como unidades de la variable objetivo (por ejemplo, si la variable objetivo es en dolares MAE estará tambien en dólares)."
   ]
  },
  {
   "cell_type": "code",
   "execution_count": 9,
   "metadata": {},
   "outputs": [],
   "source": [
    "metrics.mean_absolute_error?"
   ]
  },
  {
   "cell_type": "code",
   "execution_count": 10,
   "metadata": {},
   "outputs": [
    {
     "data": {
      "text/plain": [
       "3.2708628109003115"
      ]
     },
     "execution_count": 10,
     "metadata": {},
     "output_type": "execute_result"
    }
   ],
   "source": [
    "metrics.mean_absolute_error(y_objetivo, y_pred)"
   ]
  },
  {
   "cell_type": "markdown",
   "metadata": {},
   "source": [
    "## Error cuadrático medio\n",
    "\n",
    "El Error cuadrático medio (Mean Squared Error o MSE)\n",
    "\n",
    "$$\\frac{1}{n}\\sum_{i=1}^{n}(y_i -\\hat{y}_i)^2$$\n",
    "\n",
    "\n",
    "Dado que el MSE se define en unidades al cuadrado, lo cual no es intuitivo, generalmente se usa su raíz.\n",
    "\n",
    "\n",
    "## Raíz del error cuadrático medio\n",
    "\n",
    "La raiz del error cuadrático medio (Root Mean Squared o RMSE) se diferencia del MSE en que el resultadose medir en las mismas unidades que la variable objetivo.\n",
    "\n",
    "\n",
    "$$\\sqrt{\\frac{1}{n}\\sum_{i=1}^{n}(y_i -\\hat{y}_i)^2}$$\n",
    "\n",
    "\n",
    "Sin embargo, tiene un problema y es que da más importancia a los errores grandes. Por ejemplo en el Boston Housing DataSet, si tenemos dos onservaciones y sus predicciones:\n",
    "\n",
    "\n",
    "```\n",
    "observacion1: MEDV: 10  MEDV_pred: 15    RMSE: (10-15)²=25\n",
    "observacion2: MEDV: 1000 MEDV_pred: 1010 RMSE: (1000-1010)²=100 \n",
    "```\n",
    "\n",
    "El usar RMSE como medida de error significa que se le dará más peso de la observacion2 que al de la observacion1, pese a que un error de 5.000 dólares en una zona donde el valor media es 10.000 dólares es un error mucho más grave que un error de 10.000 dólares en una zona donde el valor medio de las casas es de 1 millon de dólares.\n",
    "\n",
    "RMSE es mas sensible que MAE a variaciones en los errores de predicción aqui tenemos un ejemplo donde se ve esto:\n",
    "\n",
    "\n",
    "![mae_vs_mse](https://cdn-images-1.medium.com/max/1371/1*YTxb8K2XZIisC944v6rERw.png)\n",
    "\n",
    "\n",
    "En este ejemplo se ce como para los tres casos, el MAE no varía, mientras que en función de la distrubición de errores el RMSE pue ser igual al MAE, (todos los errores iguales) o muchos mayor (muchos errores nulos con un error muy grande) \n",
    "\n",
    "Para aquellos casos donde lo que queramos es esto ( evitar errores grandes) y cuando la distribución de la variable objetivo este bién distribuida se puede usar RMSE en de MAE.\n"
   ]
  },
  {
   "cell_type": "code",
   "execution_count": 11,
   "metadata": {},
   "outputs": [],
   "source": [
    "import numpy as np"
   ]
  },
  {
   "cell_type": "markdown",
   "metadata": {},
   "source": [
    "Usamos la funcion `sqrt` "
   ]
  },
  {
   "cell_type": "code",
   "execution_count": 12,
   "metadata": {},
   "outputs": [
    {
     "data": {
      "text/plain": [
       "4.679191295697281"
      ]
     },
     "execution_count": 12,
     "metadata": {},
     "output_type": "execute_result"
    }
   ],
   "source": [
    "np.sqrt(metrics.mean_squared_error(y_objetivo, y_pred))"
   ]
  },
  {
   "cell_type": "markdown",
   "metadata": {},
   "source": [
    "## Coeficiente de determinación\n",
    "\n",
    "El coeficiente de determinación (R2 o R-squared)(Se usa sobre todo en regresion lineal) mide la porción de la varianza de la variable objetivo que se puede explicar por el modelo.\n",
    "\n",
    "R2 tiene un valor máximo de 1 (cuando el modelo explica toda la varianza), aunque puede tener valores negativos.\n",
    "\n",
    "Hay **varias formas de definir R2**, pero una de las más sencillas es simplemente la correlación (definida como la **Correlacion de Pearson**) entre la variable objetivo y la predicciones, elevada al cuadrado.\n",
    "\n",
    "![pmcc](https://wikimedia.org/api/rest_v1/media/math/render/svg/01d103c10e6d4f477953a9b48c69d19a954d978a)\n",
    "\n",
    "Un problema importante que tiene R2 es que no nos indica si el modelo explica la varianza debido a que está sobreajustado consideración la complejidad del modelo.\n",
    "\n",
    "$$1 - \\frac{(1 - R^2)(n-1)}{(n-k-1)}$$\n",
    "\n",
    "donde `n` es el número de observaciones y `k` es el número de coeficientes del modelo (sin contar el término independiente)"
   ]
  },
  {
   "cell_type": "code",
   "execution_count": 13,
   "metadata": {},
   "outputs": [
    {
     "data": {
      "text/plain": [
       "0.7406426641094095"
      ]
     },
     "execution_count": 13,
     "metadata": {},
     "output_type": "execute_result"
    }
   ],
   "source": [
    "model_r2 = metrics.r2_score(y_objetivo,y_pred)\n",
    "model_r2"
   ]
  },
  {
   "cell_type": "code",
   "execution_count": 14,
   "metadata": {},
   "outputs": [],
   "source": [
    "import numpy "
   ]
  },
  {
   "cell_type": "code",
   "execution_count": 15,
   "metadata": {},
   "outputs": [
    {
     "data": {
      "text/plain": [
       "array([[1.        , 0.74064266],\n",
       "       [0.74064266, 1.        ]])"
      ]
     },
     "execution_count": 15,
     "metadata": {},
     "output_type": "execute_result"
    }
   ],
   "source": [
    "np.corrcoef(y_objetivo, y_pred)**2"
   ]
  },
  {
   "cell_type": "code",
   "execution_count": 16,
   "metadata": {},
   "outputs": [
    {
     "data": {
      "text/plain": [
       "13"
      ]
     },
     "execution_count": 16,
     "metadata": {},
     "output_type": "execute_result"
    }
   ],
   "source": [
    "len(model.coef_)"
   ]
  },
  {
   "cell_type": "code",
   "execution_count": 17,
   "metadata": {},
   "outputs": [
    {
     "data": {
      "text/plain": [
       "0.733789726372463"
      ]
     },
     "execution_count": 17,
     "metadata": {},
     "output_type": "execute_result"
    }
   ],
   "source": [
    "model_r2_ajustado = 1 - (1-model_r2)*(len(boston[\"target\"])-1)/(len(boston[\"target\"])-boston[\"data\"].shape[1]-1)\n",
    "model_r2_ajustado"
   ]
  },
  {
   "cell_type": "code",
   "execution_count": null,
   "metadata": {},
   "outputs": [],
   "source": []
  }
 ],
 "metadata": {
  "kernelspec": {
   "display_name": "Python 3",
   "language": "python",
   "name": "python3"
  },
  "language_info": {
   "codemirror_mode": {
    "name": "ipython",
    "version": 3
   },
   "file_extension": ".py",
   "mimetype": "text/x-python",
   "name": "python",
   "nbconvert_exporter": "python",
   "pygments_lexer": "ipython3",
   "version": "3.7.3"
  }
 },
 "nbformat": 4,
 "nbformat_minor": 2
}
